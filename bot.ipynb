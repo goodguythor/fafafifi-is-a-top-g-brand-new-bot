{
 "cells": [
  {
   "cell_type": "markdown",
   "id": "61501785",
   "metadata": {},
   "source": [
    "# Fafafifi"
   ]
  },
  {
   "cell_type": "markdown",
   "id": "93634b6a",
   "metadata": {},
   "source": [
    "## Background"
   ]
  },
  {
   "cell_type": "markdown",
   "id": "1638072c",
   "metadata": {},
   "source": [
    "Personally, i love doing a workout whether it's a strength training or cardiovascular stuff and that's why i made this chatbot. The main purpose of the chatbot is to provide feedback on workouts, track progress, and help monitor injuries. By combining simple rules with structured responses, the chatbot will serve as a workout companion—helping me stay consistent, safe, and motivated in my fitness journey."
   ]
  },
  {
   "cell_type": "markdown",
   "id": "32c474a5",
   "metadata": {},
   "source": [
    "## Libraries & Stuff"
   ]
  },
  {
   "cell_type": "code",
   "execution_count": 1,
   "id": "ebc07826",
   "metadata": {},
   "outputs": [
    {
     "name": "stderr",
     "output_type": "stream",
     "text": [
      "\n",
      "[notice] A new release of pip available: 22.3.1 -> 25.2\n",
      "[notice] To update, run: python.exe -m pip install --upgrade pip\n"
     ]
    }
   ],
   "source": [
    "!pip install -q nltk"
   ]
  }
 ],
 "metadata": {
  "kernelspec": {
   "display_name": "fafafifi",
   "language": "python",
   "name": "python3"
  },
  "language_info": {
   "codemirror_mode": {
    "name": "ipython",
    "version": 3
   },
   "file_extension": ".py",
   "mimetype": "text/x-python",
   "name": "python",
   "nbconvert_exporter": "python",
   "pygments_lexer": "ipython3",
   "version": "3.11.2"
  }
 },
 "nbformat": 4,
 "nbformat_minor": 5
}
